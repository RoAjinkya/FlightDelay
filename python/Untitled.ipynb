{
 "cells": [
  {
   "cell_type": "code",
   "execution_count": 2,
   "metadata": {
    "collapsed": false
   },
   "outputs": [],
   "source": [
    "import json\n",
    "import requests\n",
    "\n"
   ]
  },
  {
   "cell_type": "code",
   "execution_count": null,
   "metadata": {
    "collapsed": true
   },
   "outputs": [],
   "source": []
  },
  {
   "cell_type": "code",
   "execution_count": 40,
   "metadata": {
    "collapsed": false
   },
   "outputs": [
    {
     "name": "stdout",
     "output_type": "stream",
     "text": [
      "{\n",
      "    \"metadata\": {\n",
      "        \"resultset\": {\n",
      "            \"count\": 2,\n",
      "            \"limit\": 25,\n",
      "            \"offset\": 1\n",
      "        }\n",
      "    },\n",
      "    \"results\": [\n",
      "        {\n",
      "            \"attributes\": \",,N,\",\n",
      "            \"datatype\": \"PRCP\",\n",
      "            \"date\": \"2008-01-01T00:00:00\",\n",
      "            \"station\": \"GHCND:US1TNSL0001\",\n",
      "            \"value\": 0\n",
      "        },\n",
      "        {\n",
      "            \"attributes\": \",,N,\",\n",
      "            \"datatype\": \"SNOW\",\n",
      "            \"date\": \"2008-01-01T00:00:00\",\n",
      "            \"station\": \"GHCND:US1TNSL0001\",\n",
      "            \"value\": 0\n",
      "        }\n",
      "    ]\n",
      "}\n"
     ]
    }
   ],
   "source": [
    "url = \"https://www.ncdc.noaa.gov/cdo-web/api/v2/data?datasetid=GHCND&locationid=ZIP:37686&startdate=2008-01-01&enddate=2008-01-01&limt=100\"\n",
    "#replace 'myToken' with the actual token, below\n",
    "headers = {'token': 'pHUqSdEVFTlkBeAgKjSjRzDlxrPoRZPE'}\n",
    "response = requests.get(url, headers = headers)\n",
    "response = response.json()\n",
    "\n",
    "print(json.dumps(response, indent=4, sort_keys=True))"
   ]
  },
  {
   "cell_type": "code",
   "execution_count": null,
   "metadata": {
    "collapsed": true
   },
   "outputs": [],
   "source": []
  },
  {
   "cell_type": "code",
   "execution_count": null,
   "metadata": {
    "collapsed": true
   },
   "outputs": [],
   "source": []
  }
 ],
 "metadata": {
  "anaconda-cloud": {},
  "kernelspec": {
   "display_name": "Python [conda root]",
   "language": "python",
   "name": "conda-root-py"
  },
  "language_info": {
   "codemirror_mode": {
    "name": "ipython",
    "version": 3
   },
   "file_extension": ".py",
   "mimetype": "text/x-python",
   "name": "python",
   "nbconvert_exporter": "python",
   "pygments_lexer": "ipython3",
   "version": "3.5.2"
  }
 },
 "nbformat": 4,
 "nbformat_minor": 1
}
